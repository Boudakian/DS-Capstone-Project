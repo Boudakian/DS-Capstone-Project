{
 "cells": [
  {
   "cell_type": "markdown",
   "metadata": {},
   "source": [
    "# Python Code for the Applied Data Science Capstone - Car Accident Severity Prediction"
   ]
  },
  {
   "cell_type": "markdown",
   "metadata": {},
   "source": [
    "### 1.1 Importing Libraries"
   ]
  },
  {
   "cell_type": "code",
   "execution_count": 48,
   "metadata": {},
   "outputs": [],
   "source": [
    "import pandas as pd\n",
    "import numpy as np\n",
    "import matplotlib.pyplot as plt\n",
    "from matplotlib.ticker import NullFormatter\n",
    "from sklearn import preprocessing\n",
    "from sklearn import metrics\n",
    "import seaborn as sns\n",
    "#import folium\n",
    "#from folium import features"
   ]
  },
  {
   "cell_type": "markdown",
   "metadata": {},
   "source": [
    "### 1.2 Data Collection (Extraction) and Understanding"
   ]
  },
  {
   "cell_type": "code",
   "execution_count": 49,
   "metadata": {},
   "outputs": [],
   "source": [
    "# Original data is downloaded from Seattle’s government site (link provided below).\n",
    "# O_data=pd.read_csv(\"http://data-seattlecitygis.opendata.arcgis.com/datasets/5b5c745e0f1f48e7a53acec63a0022ab_0.csv?outSR=%7B%22latestWkid%22:2926,%22wkid%22:2926%7D\")\n",
    "# O_data=pd.read_csv('Collisions Data_Sept 22 Update.csv')\n",
    "O_data=pd.read_csv('Collisions Data_Sept 22 Update.csv', low_memory=False)"
   ]
  },
  {
   "cell_type": "code",
   "execution_count": 50,
   "metadata": {},
   "outputs": [
    {
     "data": {
      "text/html": [
       "<div>\n",
       "<style scoped>\n",
       "    .dataframe tbody tr th:only-of-type {\n",
       "        vertical-align: middle;\n",
       "    }\n",
       "\n",
       "    .dataframe tbody tr th {\n",
       "        vertical-align: top;\n",
       "    }\n",
       "\n",
       "    .dataframe thead th {\n",
       "        text-align: right;\n",
       "    }\n",
       "</style>\n",
       "<table border=\"1\" class=\"dataframe\">\n",
       "  <thead>\n",
       "    <tr style=\"text-align: right;\">\n",
       "      <th></th>\n",
       "      <th>X</th>\n",
       "      <th>Y</th>\n",
       "      <th>OBJECTID</th>\n",
       "      <th>INCKEY</th>\n",
       "      <th>COLDETKEY</th>\n",
       "      <th>REPORTNO</th>\n",
       "      <th>STATUS</th>\n",
       "      <th>ADDRTYPE</th>\n",
       "      <th>INTKEY</th>\n",
       "      <th>LOCATION</th>\n",
       "      <th>...</th>\n",
       "      <th>ROADCOND</th>\n",
       "      <th>LIGHTCOND</th>\n",
       "      <th>PEDROWNOTGRNT</th>\n",
       "      <th>SDOTCOLNUM</th>\n",
       "      <th>SPEEDING</th>\n",
       "      <th>ST_COLCODE</th>\n",
       "      <th>ST_COLDESC</th>\n",
       "      <th>SEGLANEKEY</th>\n",
       "      <th>CROSSWALKKEY</th>\n",
       "      <th>HITPARKEDCAR</th>\n",
       "    </tr>\n",
       "  </thead>\n",
       "  <tbody>\n",
       "    <tr>\n",
       "      <th>0</th>\n",
       "      <td>1.268354e+06</td>\n",
       "      <td>265256.609668</td>\n",
       "      <td>1</td>\n",
       "      <td>1003</td>\n",
       "      <td>1003</td>\n",
       "      <td>3503158</td>\n",
       "      <td>Matched</td>\n",
       "      <td>Block</td>\n",
       "      <td>NaN</td>\n",
       "      <td>AURORA AVE N BETWEEN N 117TH PL AND N 125TH ST</td>\n",
       "      <td>...</td>\n",
       "      <td>Dry</td>\n",
       "      <td>Daylight</td>\n",
       "      <td>Y</td>\n",
       "      <td>NaN</td>\n",
       "      <td>NaN</td>\n",
       "      <td>45</td>\n",
       "      <td>Vehicle - Pedalcyclist</td>\n",
       "      <td>15057</td>\n",
       "      <td>0</td>\n",
       "      <td>N</td>\n",
       "    </tr>\n",
       "    <tr>\n",
       "      <th>1</th>\n",
       "      <td>1.259316e+06</td>\n",
       "      <td>202173.388163</td>\n",
       "      <td>2</td>\n",
       "      <td>56200</td>\n",
       "      <td>56200</td>\n",
       "      <td>1795087</td>\n",
       "      <td>Matched</td>\n",
       "      <td>Block</td>\n",
       "      <td>NaN</td>\n",
       "      <td>35TH AVE SW BETWEEN SW MORGAN ST AND SW HOLLY ST</td>\n",
       "      <td>...</td>\n",
       "      <td>Dry</td>\n",
       "      <td>Dark - Street Lights On</td>\n",
       "      <td>NaN</td>\n",
       "      <td>6015003.0</td>\n",
       "      <td>NaN</td>\n",
       "      <td>0</td>\n",
       "      <td>Vehicle going straight hits pedestrian</td>\n",
       "      <td>0</td>\n",
       "      <td>0</td>\n",
       "      <td>N</td>\n",
       "    </tr>\n",
       "    <tr>\n",
       "      <th>2</th>\n",
       "      <td>1.264342e+06</td>\n",
       "      <td>259613.000382</td>\n",
       "      <td>3</td>\n",
       "      <td>327037</td>\n",
       "      <td>328537</td>\n",
       "      <td>E979380</td>\n",
       "      <td>Matched</td>\n",
       "      <td>Intersection</td>\n",
       "      <td>37122.0</td>\n",
       "      <td>3RD AVE NW AND NW 100TH ST</td>\n",
       "      <td>...</td>\n",
       "      <td>Wet</td>\n",
       "      <td>Daylight</td>\n",
       "      <td>NaN</td>\n",
       "      <td>NaN</td>\n",
       "      <td>NaN</td>\n",
       "      <td>10</td>\n",
       "      <td>Entering at angle</td>\n",
       "      <td>0</td>\n",
       "      <td>0</td>\n",
       "      <td>N</td>\n",
       "    </tr>\n",
       "    <tr>\n",
       "      <th>3</th>\n",
       "      <td>1.279221e+06</td>\n",
       "      <td>222017.872023</td>\n",
       "      <td>4</td>\n",
       "      <td>327278</td>\n",
       "      <td>328778</td>\n",
       "      <td>E996362</td>\n",
       "      <td>Unmatched</td>\n",
       "      <td>Intersection</td>\n",
       "      <td>30602.0</td>\n",
       "      <td>M L KING JR WAY S AND S JACKSON ST</td>\n",
       "      <td>...</td>\n",
       "      <td>NaN</td>\n",
       "      <td>NaN</td>\n",
       "      <td>NaN</td>\n",
       "      <td>NaN</td>\n",
       "      <td>NaN</td>\n",
       "      <td></td>\n",
       "      <td>NaN</td>\n",
       "      <td>0</td>\n",
       "      <td>0</td>\n",
       "      <td>N</td>\n",
       "    </tr>\n",
       "    <tr>\n",
       "      <th>4</th>\n",
       "      <td>1.262205e+06</td>\n",
       "      <td>242179.124204</td>\n",
       "      <td>5</td>\n",
       "      <td>1248</td>\n",
       "      <td>1248</td>\n",
       "      <td>3645424</td>\n",
       "      <td>Unmatched</td>\n",
       "      <td>Block</td>\n",
       "      <td>NaN</td>\n",
       "      <td>W EWING ST BETWEEN 6TH AVE W AND W EWING PL</td>\n",
       "      <td>...</td>\n",
       "      <td>NaN</td>\n",
       "      <td>NaN</td>\n",
       "      <td>NaN</td>\n",
       "      <td>NaN</td>\n",
       "      <td>NaN</td>\n",
       "      <td></td>\n",
       "      <td>NaN</td>\n",
       "      <td>0</td>\n",
       "      <td>0</td>\n",
       "      <td>N</td>\n",
       "    </tr>\n",
       "  </tbody>\n",
       "</table>\n",
       "<p>5 rows × 40 columns</p>\n",
       "</div>"
      ],
      "text/plain": [
       "              X              Y  OBJECTID  INCKEY  COLDETKEY REPORTNO  \\\n",
       "0  1.268354e+06  265256.609668         1    1003       1003  3503158   \n",
       "1  1.259316e+06  202173.388163         2   56200      56200  1795087   \n",
       "2  1.264342e+06  259613.000382         3  327037     328537  E979380   \n",
       "3  1.279221e+06  222017.872023         4  327278     328778  E996362   \n",
       "4  1.262205e+06  242179.124204         5    1248       1248  3645424   \n",
       "\n",
       "      STATUS      ADDRTYPE   INTKEY  \\\n",
       "0    Matched         Block      NaN   \n",
       "1    Matched         Block      NaN   \n",
       "2    Matched  Intersection  37122.0   \n",
       "3  Unmatched  Intersection  30602.0   \n",
       "4  Unmatched         Block      NaN   \n",
       "\n",
       "                                           LOCATION  ... ROADCOND  \\\n",
       "0    AURORA AVE N BETWEEN N 117TH PL AND N 125TH ST  ...      Dry   \n",
       "1  35TH AVE SW BETWEEN SW MORGAN ST AND SW HOLLY ST  ...      Dry   \n",
       "2                        3RD AVE NW AND NW 100TH ST  ...      Wet   \n",
       "3                M L KING JR WAY S AND S JACKSON ST  ...      NaN   \n",
       "4       W EWING ST BETWEEN 6TH AVE W AND W EWING PL  ...      NaN   \n",
       "\n",
       "                 LIGHTCOND PEDROWNOTGRNT SDOTCOLNUM SPEEDING  ST_COLCODE  \\\n",
       "0                 Daylight             Y        NaN      NaN          45   \n",
       "1  Dark - Street Lights On           NaN  6015003.0      NaN           0   \n",
       "2                 Daylight           NaN        NaN      NaN          10   \n",
       "3                      NaN           NaN        NaN      NaN               \n",
       "4                      NaN           NaN        NaN      NaN               \n",
       "\n",
       "                               ST_COLDESC  SEGLANEKEY  CROSSWALKKEY  \\\n",
       "0                  Vehicle - Pedalcyclist       15057             0   \n",
       "1  Vehicle going straight hits pedestrian           0             0   \n",
       "2                       Entering at angle           0             0   \n",
       "3                                     NaN           0             0   \n",
       "4                                     NaN           0             0   \n",
       "\n",
       "   HITPARKEDCAR  \n",
       "0             N  \n",
       "1             N  \n",
       "2             N  \n",
       "3             N  \n",
       "4             N  \n",
       "\n",
       "[5 rows x 40 columns]"
      ]
     },
     "execution_count": 50,
     "metadata": {},
     "output_type": "execute_result"
    }
   ],
   "source": [
    "# Checking the first 5 rows of the dataset\n",
    "O_data.head()"
   ]
  },
  {
   "cell_type": "code",
   "execution_count": 51,
   "metadata": {},
   "outputs": [
    {
     "data": {
      "text/plain": [
       "(221525, 40)"
      ]
     },
     "execution_count": 51,
     "metadata": {},
     "output_type": "execute_result"
    }
   ],
   "source": [
    "# Checking the shape of data\n",
    "O_data.shape"
   ]
  },
  {
   "cell_type": "code",
   "execution_count": 52,
   "metadata": {},
   "outputs": [
    {
     "data": {
      "text/plain": [
       "Index(['X', 'Y', 'OBJECTID', 'INCKEY', 'COLDETKEY', 'REPORTNO', 'STATUS',\n",
       "       'ADDRTYPE', 'INTKEY', 'LOCATION', 'EXCEPTRSNCODE', 'EXCEPTRSNDESC',\n",
       "       'SEVERITYCODE', 'SEVERITYDESC', 'COLLISIONTYPE', 'PERSONCOUNT',\n",
       "       'PEDCOUNT', 'PEDCYLCOUNT', 'VEHCOUNT', 'INJURIES', 'SERIOUSINJURIES',\n",
       "       'FATALITIES', 'INCDATE', 'INCDTTM', 'JUNCTIONTYPE', 'SDOT_COLCODE',\n",
       "       'SDOT_COLDESC', 'INATTENTIONIND', 'UNDERINFL', 'WEATHER', 'ROADCOND',\n",
       "       'LIGHTCOND', 'PEDROWNOTGRNT', 'SDOTCOLNUM', 'SPEEDING', 'ST_COLCODE',\n",
       "       'ST_COLDESC', 'SEGLANEKEY', 'CROSSWALKKEY', 'HITPARKEDCAR'],\n",
       "      dtype='object')"
      ]
     },
     "execution_count": 52,
     "metadata": {},
     "output_type": "execute_result"
    }
   ],
   "source": [
    "# Checking the columns/variables that are present in the dataset\n",
    "O_data.columns"
   ]
  },
  {
   "cell_type": "code",
   "execution_count": 53,
   "metadata": {},
   "outputs": [
    {
     "data": {
      "text/html": [
       "<div>\n",
       "<style scoped>\n",
       "    .dataframe tbody tr th:only-of-type {\n",
       "        vertical-align: middle;\n",
       "    }\n",
       "\n",
       "    .dataframe tbody tr th {\n",
       "        vertical-align: top;\n",
       "    }\n",
       "\n",
       "    .dataframe thead th {\n",
       "        text-align: right;\n",
       "    }\n",
       "</style>\n",
       "<table border=\"1\" class=\"dataframe\">\n",
       "  <thead>\n",
       "    <tr style=\"text-align: right;\">\n",
       "      <th></th>\n",
       "      <th>X</th>\n",
       "      <th>Y</th>\n",
       "      <th>OBJECTID</th>\n",
       "      <th>INCKEY</th>\n",
       "      <th>COLDETKEY</th>\n",
       "      <th>INTKEY</th>\n",
       "      <th>PERSONCOUNT</th>\n",
       "      <th>PEDCOUNT</th>\n",
       "      <th>PEDCYLCOUNT</th>\n",
       "      <th>VEHCOUNT</th>\n",
       "      <th>INJURIES</th>\n",
       "      <th>SERIOUSINJURIES</th>\n",
       "      <th>FATALITIES</th>\n",
       "      <th>SDOT_COLCODE</th>\n",
       "      <th>SDOTCOLNUM</th>\n",
       "      <th>SEGLANEKEY</th>\n",
       "      <th>CROSSWALKKEY</th>\n",
       "    </tr>\n",
       "  </thead>\n",
       "  <tbody>\n",
       "    <tr>\n",
       "      <th>count</th>\n",
       "      <td>2.140500e+05</td>\n",
       "      <td>214050.000000</td>\n",
       "      <td>221525.000000</td>\n",
       "      <td>221525.000000</td>\n",
       "      <td>221525.000000</td>\n",
       "      <td>71936.000000</td>\n",
       "      <td>221525.000000</td>\n",
       "      <td>221525.000000</td>\n",
       "      <td>221525.000000</td>\n",
       "      <td>221525.000000</td>\n",
       "      <td>221525.000000</td>\n",
       "      <td>221525.000000</td>\n",
       "      <td>221525.000000</td>\n",
       "      <td>221524.000000</td>\n",
       "      <td>1.272050e+05</td>\n",
       "      <td>221525.000000</td>\n",
       "      <td>2.215250e+05</td>\n",
       "    </tr>\n",
       "    <tr>\n",
       "      <th>mean</th>\n",
       "      <td>1.271147e+06</td>\n",
       "      <td>229822.714977</td>\n",
       "      <td>110763.000000</td>\n",
       "      <td>144824.873233</td>\n",
       "      <td>145053.886627</td>\n",
       "      <td>37626.275537</td>\n",
       "      <td>2.226941</td>\n",
       "      <td>0.038118</td>\n",
       "      <td>0.027360</td>\n",
       "      <td>1.730482</td>\n",
       "      <td>0.373935</td>\n",
       "      <td>0.015208</td>\n",
       "      <td>0.001693</td>\n",
       "      <td>13.383042</td>\n",
       "      <td>7.971063e+06</td>\n",
       "      <td>261.135903</td>\n",
       "      <td>9.577244e+03</td>\n",
       "    </tr>\n",
       "    <tr>\n",
       "      <th>std</th>\n",
       "      <td>7.361903e+03</td>\n",
       "      <td>20463.229585</td>\n",
       "      <td>63948.903529</td>\n",
       "      <td>89222.567072</td>\n",
       "      <td>89598.173976</td>\n",
       "      <td>51968.207339</td>\n",
       "      <td>1.470050</td>\n",
       "      <td>0.201766</td>\n",
       "      <td>0.164537</td>\n",
       "      <td>0.829754</td>\n",
       "      <td>0.732077</td>\n",
       "      <td>0.158052</td>\n",
       "      <td>0.044888</td>\n",
       "      <td>7.300182</td>\n",
       "      <td>2.611523e+06</td>\n",
       "      <td>3246.962907</td>\n",
       "      <td>7.146156e+04</td>\n",
       "    </tr>\n",
       "    <tr>\n",
       "      <th>min</th>\n",
       "      <td>1.249026e+06</td>\n",
       "      <td>184059.089009</td>\n",
       "      <td>1.000000</td>\n",
       "      <td>1001.000000</td>\n",
       "      <td>1001.000000</td>\n",
       "      <td>23807.000000</td>\n",
       "      <td>0.000000</td>\n",
       "      <td>0.000000</td>\n",
       "      <td>0.000000</td>\n",
       "      <td>0.000000</td>\n",
       "      <td>0.000000</td>\n",
       "      <td>0.000000</td>\n",
       "      <td>0.000000</td>\n",
       "      <td>0.000000</td>\n",
       "      <td>1.007024e+06</td>\n",
       "      <td>0.000000</td>\n",
       "      <td>0.000000e+00</td>\n",
       "    </tr>\n",
       "    <tr>\n",
       "      <th>25%</th>\n",
       "      <td>1.266677e+06</td>\n",
       "      <td>214145.383695</td>\n",
       "      <td>55382.000000</td>\n",
       "      <td>71668.000000</td>\n",
       "      <td>71668.000000</td>\n",
       "      <td>28653.000000</td>\n",
       "      <td>2.000000</td>\n",
       "      <td>0.000000</td>\n",
       "      <td>0.000000</td>\n",
       "      <td>2.000000</td>\n",
       "      <td>0.000000</td>\n",
       "      <td>0.000000</td>\n",
       "      <td>0.000000</td>\n",
       "      <td>11.000000</td>\n",
       "      <td>6.007029e+06</td>\n",
       "      <td>0.000000</td>\n",
       "      <td>0.000000e+00</td>\n",
       "    </tr>\n",
       "    <tr>\n",
       "      <th>50%</th>\n",
       "      <td>1.271142e+06</td>\n",
       "      <td>228336.487966</td>\n",
       "      <td>110763.000000</td>\n",
       "      <td>127252.000000</td>\n",
       "      <td>127252.000000</td>\n",
       "      <td>29973.000000</td>\n",
       "      <td>2.000000</td>\n",
       "      <td>0.000000</td>\n",
       "      <td>0.000000</td>\n",
       "      <td>2.000000</td>\n",
       "      <td>0.000000</td>\n",
       "      <td>0.000000</td>\n",
       "      <td>0.000000</td>\n",
       "      <td>11.000000</td>\n",
       "      <td>8.033011e+06</td>\n",
       "      <td>0.000000</td>\n",
       "      <td>0.000000e+00</td>\n",
       "    </tr>\n",
       "    <tr>\n",
       "      <th>75%</th>\n",
       "      <td>1.276029e+06</td>\n",
       "      <td>245908.853680</td>\n",
       "      <td>166144.000000</td>\n",
       "      <td>209935.000000</td>\n",
       "      <td>210155.000000</td>\n",
       "      <td>33984.000000</td>\n",
       "      <td>3.000000</td>\n",
       "      <td>0.000000</td>\n",
       "      <td>0.000000</td>\n",
       "      <td>2.000000</td>\n",
       "      <td>1.000000</td>\n",
       "      <td>0.000000</td>\n",
       "      <td>0.000000</td>\n",
       "      <td>14.000000</td>\n",
       "      <td>1.018101e+07</td>\n",
       "      <td>0.000000</td>\n",
       "      <td>0.000000e+00</td>\n",
       "    </tr>\n",
       "    <tr>\n",
       "      <th>max</th>\n",
       "      <td>1.293052e+06</td>\n",
       "      <td>271525.414794</td>\n",
       "      <td>221525.000000</td>\n",
       "      <td>334020.000000</td>\n",
       "      <td>335520.000000</td>\n",
       "      <td>764413.000000</td>\n",
       "      <td>93.000000</td>\n",
       "      <td>6.000000</td>\n",
       "      <td>2.000000</td>\n",
       "      <td>15.000000</td>\n",
       "      <td>78.000000</td>\n",
       "      <td>41.000000</td>\n",
       "      <td>5.000000</td>\n",
       "      <td>87.000000</td>\n",
       "      <td>1.307202e+07</td>\n",
       "      <td>525241.000000</td>\n",
       "      <td>5.239700e+06</td>\n",
       "    </tr>\n",
       "  </tbody>\n",
       "</table>\n",
       "</div>"
      ],
      "text/plain": [
       "                  X              Y       OBJECTID         INCKEY  \\\n",
       "count  2.140500e+05  214050.000000  221525.000000  221525.000000   \n",
       "mean   1.271147e+06  229822.714977  110763.000000  144824.873233   \n",
       "std    7.361903e+03   20463.229585   63948.903529   89222.567072   \n",
       "min    1.249026e+06  184059.089009       1.000000    1001.000000   \n",
       "25%    1.266677e+06  214145.383695   55382.000000   71668.000000   \n",
       "50%    1.271142e+06  228336.487966  110763.000000  127252.000000   \n",
       "75%    1.276029e+06  245908.853680  166144.000000  209935.000000   \n",
       "max    1.293052e+06  271525.414794  221525.000000  334020.000000   \n",
       "\n",
       "           COLDETKEY         INTKEY    PERSONCOUNT       PEDCOUNT  \\\n",
       "count  221525.000000   71936.000000  221525.000000  221525.000000   \n",
       "mean   145053.886627   37626.275537       2.226941       0.038118   \n",
       "std     89598.173976   51968.207339       1.470050       0.201766   \n",
       "min      1001.000000   23807.000000       0.000000       0.000000   \n",
       "25%     71668.000000   28653.000000       2.000000       0.000000   \n",
       "50%    127252.000000   29973.000000       2.000000       0.000000   \n",
       "75%    210155.000000   33984.000000       3.000000       0.000000   \n",
       "max    335520.000000  764413.000000      93.000000       6.000000   \n",
       "\n",
       "         PEDCYLCOUNT       VEHCOUNT       INJURIES  SERIOUSINJURIES  \\\n",
       "count  221525.000000  221525.000000  221525.000000    221525.000000   \n",
       "mean        0.027360       1.730482       0.373935         0.015208   \n",
       "std         0.164537       0.829754       0.732077         0.158052   \n",
       "min         0.000000       0.000000       0.000000         0.000000   \n",
       "25%         0.000000       2.000000       0.000000         0.000000   \n",
       "50%         0.000000       2.000000       0.000000         0.000000   \n",
       "75%         0.000000       2.000000       1.000000         0.000000   \n",
       "max         2.000000      15.000000      78.000000        41.000000   \n",
       "\n",
       "          FATALITIES   SDOT_COLCODE    SDOTCOLNUM     SEGLANEKEY  CROSSWALKKEY  \n",
       "count  221525.000000  221524.000000  1.272050e+05  221525.000000  2.215250e+05  \n",
       "mean        0.001693      13.383042  7.971063e+06     261.135903  9.577244e+03  \n",
       "std         0.044888       7.300182  2.611523e+06    3246.962907  7.146156e+04  \n",
       "min         0.000000       0.000000  1.007024e+06       0.000000  0.000000e+00  \n",
       "25%         0.000000      11.000000  6.007029e+06       0.000000  0.000000e+00  \n",
       "50%         0.000000      11.000000  8.033011e+06       0.000000  0.000000e+00  \n",
       "75%         0.000000      14.000000  1.018101e+07       0.000000  0.000000e+00  \n",
       "max         5.000000      87.000000  1.307202e+07  525241.000000  5.239700e+06  "
      ]
     },
     "execution_count": 53,
     "metadata": {},
     "output_type": "execute_result"
    }
   ],
   "source": [
    "# Checking statistical data of the dataset\n",
    "O_data.describe()"
   ]
  },
  {
   "cell_type": "code",
   "execution_count": 54,
   "metadata": {},
   "outputs": [
    {
     "name": "stdout",
     "output_type": "stream",
     "text": [
      "<class 'pandas.core.frame.DataFrame'>\n",
      "RangeIndex: 221525 entries, 0 to 221524\n",
      "Data columns (total 40 columns):\n",
      " #   Column           Non-Null Count   Dtype  \n",
      "---  ------           --------------   -----  \n",
      " 0   X                214050 non-null  float64\n",
      " 1   Y                214050 non-null  float64\n",
      " 2   OBJECTID         221525 non-null  int64  \n",
      " 3   INCKEY           221525 non-null  int64  \n",
      " 4   COLDETKEY        221525 non-null  int64  \n",
      " 5   REPORTNO         221525 non-null  object \n",
      " 6   STATUS           221525 non-null  object \n",
      " 7   ADDRTYPE         217813 non-null  object \n",
      " 8   INTKEY           71936 non-null   float64\n",
      " 9   LOCATION         216935 non-null  object \n",
      " 10  EXCEPTRSNCODE    101122 non-null  object \n",
      " 11  EXCEPTRSNDESC    11779 non-null   object \n",
      " 12  SEVERITYCODE     221524 non-null  object \n",
      " 13  SEVERITYDESC     221525 non-null  object \n",
      " 14  COLLISIONTYPE    195212 non-null  object \n",
      " 15  PERSONCOUNT      221525 non-null  int64  \n",
      " 16  PEDCOUNT         221525 non-null  int64  \n",
      " 17  PEDCYLCOUNT      221525 non-null  int64  \n",
      " 18  VEHCOUNT         221525 non-null  int64  \n",
      " 19  INJURIES         221525 non-null  int64  \n",
      " 20  SERIOUSINJURIES  221525 non-null  int64  \n",
      " 21  FATALITIES       221525 non-null  int64  \n",
      " 22  INCDATE          221525 non-null  object \n",
      " 23  INCDTTM          221525 non-null  object \n",
      " 24  JUNCTIONTYPE     209551 non-null  object \n",
      " 25  SDOT_COLCODE     221524 non-null  float64\n",
      " 26  SDOT_COLDESC     221524 non-null  object \n",
      " 27  INATTENTIONIND   30188 non-null   object \n",
      " 28  UNDERINFL        195232 non-null  object \n",
      " 29  WEATHER          195022 non-null  object \n",
      " 30  ROADCOND         195103 non-null  object \n",
      " 31  LIGHTCOND        194933 non-null  object \n",
      " 32  PEDROWNOTGRNT    5195 non-null    object \n",
      " 33  SDOTCOLNUM       127205 non-null  float64\n",
      " 34  SPEEDING         9929 non-null    object \n",
      " 35  ST_COLCODE       212112 non-null  object \n",
      " 36  ST_COLDESC       195212 non-null  object \n",
      " 37  SEGLANEKEY       221525 non-null  int64  \n",
      " 38  CROSSWALKKEY     221525 non-null  int64  \n",
      " 39  HITPARKEDCAR     221525 non-null  object \n",
      "dtypes: float64(5), int64(12), object(23)\n",
      "memory usage: 67.6+ MB\n"
     ]
    }
   ],
   "source": [
    "# Cheking the data type of the variables\n",
    "O_data.info()"
   ]
  },
  {
   "cell_type": "code",
   "execution_count": 55,
   "metadata": {},
   "outputs": [],
   "source": [
    "# Feature Extraction - Determining the attiributes that will be used for the study - only relevant variables will be selected\n",
    "data = O_data[['SEVERITYCODE','ADDRTYPE','PERSONCOUNT', 'PEDCOUNT','PEDCYLCOUNT','VEHCOUNT','INJURIES','FATALITIES','INCDTTM',\n",
    "               'JUNCTIONTYPE','INATTENTIONIND','UNDERINFL','WEATHER','ROADCOND','LIGHTCOND','SPEEDING','HITPARKEDCAR']]"
   ]
  },
  {
   "cell_type": "code",
   "execution_count": 56,
   "metadata": {},
   "outputs": [
    {
     "name": "stderr",
     "output_type": "stream",
     "text": [
      "C:\\Users\\Jack\\anaconda3\\lib\\site-packages\\ipykernel_launcher.py:3: SettingWithCopyWarning: \n",
      "A value is trying to be set on a copy of a slice from a DataFrame.\n",
      "Try using .loc[row_indexer,col_indexer] = value instead\n",
      "\n",
      "See the caveats in the documentation: https://pandas.pydata.org/pandas-docs/stable/user_guide/indexing.html#returning-a-view-versus-a-copy\n",
      "  This is separate from the ipykernel package so we can avoid doing imports until\n"
     ]
    }
   ],
   "source": [
    "# Data Visualization\n",
    "# Checking whether there is any relationship between the occurence of accidents and time/days/months/years.\n",
    "data['INCDTTM'] = pd.to_datetime(data['INCDTTM'])\n",
    "years = pd.DatetimeIndex(data['INCDTTM']).year.value_counts(sort=False)\n",
    "months = pd.DatetimeIndex(data['INCDTTM']).month.value_counts(sort=False)\n",
    "days = pd.DatetimeIndex(data['INCDTTM']).dayofweek.value_counts(sort=False)"
   ]
  },
  {
   "cell_type": "code",
   "execution_count": 57,
   "metadata": {},
   "outputs": [
    {
     "data": {
      "image/png": "[encoded data removed]",
      "text/plain": [
       "<Figure size 864x432 with 1 Axes>"
      ]
     },
     "metadata": {
      "needs_background": "light"
     },
     "output_type": "display_data"
    }
   ],
   "source": [
    "# Plotting The Number of Accidents on specific Years, Months, Week Day and Time of the Day\n",
    "years.plot(kind='bar', figsize=(12,6),fontsize=14)\n",
    "plt.title('Year vs. No. of Accidents in that year')\n",
    "plt.xlabel('Year')\n",
    "plt.ylabel('No. of Accidents')\n",
    "plt.show()"
   ]
  },
  {
   "cell_type": "code",
   "execution_count": 58,
   "metadata": {},
   "outputs": [
    {
     "data": {
      "image/png": "[encoded data removed]",
      "text/plain": [
       "<Figure size 864x432 with 1 Axes>"
      ]
     },
     "metadata": {
      "needs_background": "light"
     },
     "output_type": "display_data"
    }
   ],
   "source": [
    "# Plotting The Number of Accidents on specific Years, Months, Week Day and Time of the Day\n",
    "ax = months.plot(kind='bar', figsize=(12,6),fontsize=14)\n",
    "ax.set_xticklabels(['Jan','Feb','Mar','Apr','May','June','July','Aug','Sep','Oct','Nov','Dec'],rotation = 20)\n",
    "plt.title('Month vs. No. of Accidents in that month')\n",
    "plt.xlabel('Month')\n",
    "plt.ylabel('No. of Accidents')\n",
    "plt.show()"
   ]
  },
  {
   "cell_type": "code",
   "execution_count": 59,
   "metadata": {},
   "outputs": [
    {
     "data": {
      "image/png": "[encoded data removed]",
      "text/plain": [
       "<Figure size 864x432 with 1 Axes>"
      ]
     },
     "metadata": {
      "needs_background": "light"
     },
     "output_type": "display_data"
    }
   ],
   "source": [
    "# Plotting The Number of Accidents on specific Years, Months, Week Day and Time of the Day\n",
    "ax = days.plot(kind='bar', figsize=(12,6),fontsize=14)\n",
    "ax.set_xticklabels(('Monday','Tuesday','Wednesday','Thursday','Friday','Saturday','Sunday'),rotation = 20)\n",
    "plt.title('Day of Week vs. No. of Accidents on that day')\n",
    "plt.xlabel('Day of Week')\n",
    "plt.ylabel('No. of Accidents')\n",
    "plt.show()"
   ]
  },
  {
   "cell_type": "code",
   "execution_count": 60,
   "metadata": {},
   "outputs": [
    {
     "data": {
      "image/png": "[encoded data removed]",
      "text/plain": [
       "<Figure size 1080x576 with 1 Axes>"
      ]
     },
     "metadata": {
      "needs_background": "light"
     },
     "output_type": "display_data"
    }
   ],
   "source": [
    "# Plotting The Number of Accidents on specific Years, Months, Week Day and Time of the Day\n",
    "times = data.INCDTTM.dt.hour\n",
    "plt.figure(figsize=(15,8))\n",
    "plt.hist(times,bins=range(0,25))\n",
    "plt.xticks(range(25))\n",
    "plt.title('Time of Day vs. No. of Accidents at that time')\n",
    "plt.xlabel('Time of Day')\n",
    "plt.ylabel('No. of Accidents')\n",
    "plt.show()"
   ]
  },
  {
   "cell_type": "code",
   "execution_count": 61,
   "metadata": {},
   "outputs": [
    {
     "data": {
      "image/png": "[encoded data removed]",
      "text/plain": [
       "<Figure size 432x432 with 1 Axes>"
      ]
     },
     "metadata": {
      "needs_background": "light"
     },
     "output_type": "display_data"
    }
   ],
   "source": [
    "# Visualizing the no. of accidents at different address types\n",
    "data.ADDRTYPE.value_counts().plot(kind='bar',figsize=(6,6),fontsize=14)\n",
    "plt.title('Collision Address Types vs No. of Accidnets')\n",
    "plt.xlabel('Collision Address Types')\n",
    "plt.ylabel('No. of Accidents')\n",
    "plt.show()"
   ]
  },
  {
   "cell_type": "code",
   "execution_count": 62,
   "metadata": {},
   "outputs": [
    {
     "data": {
      "image/png": "[encoded data removed]",
      "text/plain": [
       "<Figure size 432x288 with 1 Axes>"
      ]
     },
     "metadata": {
      "needs_background": "light"
     },
     "output_type": "display_data"
    }
   ],
   "source": [
    "# Visualizing the no. of accidents and the number of vehicles involved\n",
    "plt.hist(data['VEHCOUNT'],bins=range(0,13));\n",
    "plt.title('No. of Vehicles involved vs. No. of Accidents')\n",
    "plt.xlabel('Vehicles Count')\n",
    "plt.ylabel('No. of Accidents')\n",
    "plt.show()"
   ]
  },
  {
   "cell_type": "code",
   "execution_count": 63,
   "metadata": {},
   "outputs": [
    {
     "data": {
      "image/png": "[encoded data removed]",
      "text/plain": [
       "<Figure size 576x576 with 1 Axes>"
      ]
     },
     "metadata": {
      "needs_background": "light"
     },
     "output_type": "display_data"
    }
   ],
   "source": [
    "# Visualizing the severity of accidents at different junction types\n",
    "fig, ax = plt.subplots(figsize=(8,8))\n",
    "sns.countplot(y=data['JUNCTIONTYPE'], hue=data['SEVERITYCODE'],ax=ax).set(title = 'Different Junction types and severity of accidents at those junctions')\n",
    "plt.show()"
   ]
  },
  {
   "cell_type": "code",
   "execution_count": 64,
   "metadata": {},
   "outputs": [
    {
     "data": {
      "image/png": "[encoded data removed]",
      "text/plain": [
       "<Figure size 576x576 with 1 Axes>"
      ]
     },
     "metadata": {
      "needs_background": "light"
     },
     "output_type": "display_data"
    }
   ],
   "source": [
    "# Visualizing the effect of Drugs and Alcohol on the number of Accidents\n",
    "fig, ax = plt.subplots(figsize=(8,8))\n",
    "sns.countplot(y=data['UNDERINFL'], hue=data['SEVERITYCODE'],ax=ax).set(title = 'Effect of Drugs/Alcohol on Accidents')\n",
    "plt.show()"
   ]
  },
  {
   "cell_type": "code",
   "execution_count": 65,
   "metadata": {},
   "outputs": [
    {
     "data": {
      "image/png": "[encoded data removed]",
      "text/plain": [
       "<Figure size 576x576 with 1 Axes>"
      ]
     },
     "metadata": {
      "needs_background": "light"
     },
     "output_type": "display_data"
    }
   ],
   "source": [
    "# Visualizing the effect of Drivers Inattention to the Severity of the Accident\n",
    "fig, ax = plt.subplots(figsize=(8,8))\n",
    "sns.countplot(y=data['INATTENTIONIND'], hue=data['SEVERITYCODE'],ax=ax).set(title = 'Effect of Drivers Inattention to the Severity of Accidents')\n",
    "plt.show()"
   ]
  },
  {
   "cell_type": "code",
   "execution_count": 66,
   "metadata": {},
   "outputs": [
    {
     "data": {
      "image/png": "[encoded data removed]",
      "text/plain": [
       "<Figure size 576x576 with 1 Axes>"
      ]
     },
     "metadata": {
      "needs_background": "light"
     },
     "output_type": "display_data"
    }
   ],
   "source": [
    "# Visualizing the effect of the Weather on the Severity of the Accident\n",
    "fig, ax = plt.subplots(figsize=(8,8))\n",
    "sns.countplot(y=data['WEATHER'], hue=data['SEVERITYCODE'],ax=ax).set(title = 'Effect of the Weather on the Severity of the Accidents')\n",
    "plt.show()"
   ]
  },
  {
   "cell_type": "code",
   "execution_count": 67,
   "metadata": {},
   "outputs": [
    {
     "data": {
      "image/png": "[encoded data removed]",
      "text/plain": [
       "<Figure size 576x576 with 1 Axes>"
      ]
     },
     "metadata": {
      "needs_background": "light"
     },
     "output_type": "display_data"
    }
   ],
   "source": [
    "# Visualizing the effect of the Road Conditions on the Severity of the Accident\n",
    "fig, ax = plt.subplots(figsize=(8,8))\n",
    "sns.countplot(y=data['ROADCOND'], hue=data['SEVERITYCODE'],ax=ax).set(title = 'Effect of the Road Conditions on the Severity of the Accidents')\n",
    "plt.show()"
   ]
  },
  {
   "cell_type": "code",
   "execution_count": 68,
   "metadata": {},
   "outputs": [
    {
     "data": {
      "image/png": "[encoded data removed]",
      "text/plain": [
       "<Figure size 576x576 with 1 Axes>"
      ]
     },
     "metadata": {
      "needs_background": "light"
     },
     "output_type": "display_data"
    }
   ],
   "source": [
    "# Visualizing the effect of the Light Conditions on the Severity of the Accident\n",
    "fig, ax = plt.subplots(figsize=(8,8))\n",
    "sns.countplot(y=data['LIGHTCOND'], hue=data['SEVERITYCODE'],ax=ax).set(title = 'Effect of Light Conditions on the Severity of the Accident')\n",
    "plt.show()"
   ]
  },
  {
   "cell_type": "markdown",
   "metadata": {},
   "source": [
    "### 1.3 Data Preparation"
   ]
  },
  {
   "cell_type": "code",
   "execution_count": 69,
   "metadata": {},
   "outputs": [
    {
     "name": "stdout",
     "output_type": "stream",
     "text": [
      "Attribute Name \t\t No. of Null Values\n",
      "-------------------------------------------\n"
     ]
    },
    {
     "data": {
      "text/plain": [
       "SEVERITYCODE           1\n",
       "ADDRTYPE            3712\n",
       "PERSONCOUNT            0\n",
       "PEDCOUNT               0\n",
       "PEDCYLCOUNT            0\n",
       "VEHCOUNT               0\n",
       "INJURIES               0\n",
       "FATALITIES             0\n",
       "INCDTTM                0\n",
       "JUNCTIONTYPE       11974\n",
       "INATTENTIONIND    191337\n",
       "UNDERINFL          26293\n",
       "WEATHER            26503\n",
       "ROADCOND           26422\n",
       "LIGHTCOND          26592\n",
       "SPEEDING          211596\n",
       "HITPARKEDCAR           0\n",
       "dtype: int64"
      ]
     },
     "execution_count": 69,
     "metadata": {},
     "output_type": "execute_result"
    }
   ],
   "source": [
    "# Finding All Null Data\n",
    "print('Attribute Name \\t\\t No. of Null Values')\n",
    "print(\"-\"*43)\n",
    "data.isnull().sum()"
   ]
  },
  {
   "cell_type": "code",
   "execution_count": 70,
   "metadata": {},
   "outputs": [
    {
     "name": "stdout",
     "output_type": "stream",
     "text": [
      "Column Name :\t SEVERITYCODE\n",
      "1     137671\n",
      "2      58783\n",
      "0      21615\n",
      "2b      3105\n",
      "3        350\n",
      "Name: SEVERITYCODE, dtype: int64\n",
      "------------------------------\n",
      "Column Name :\t ADDRTYPE\n",
      "Block           144999\n",
      "Intersection     71936\n",
      "Alley              878\n",
      "Name: ADDRTYPE, dtype: int64\n",
      "------------------------------\n",
      "Column Name :\t PERSONCOUNT\n",
      "2     119078\n",
      "3      36555\n",
      "0      25008\n",
      "4      15017\n",
      "1      13938\n",
      "5       6794\n",
      "6       2796\n",
      "7       1180\n",
      "8        547\n",
      "9        227\n",
      "10       133\n",
      "11        59\n",
      "12        35\n",
      "13        22\n",
      "14        22\n",
      "15        11\n",
      "17        11\n",
      "16         8\n",
      "44         6\n",
      "20         6\n",
      "25         6\n",
      "18         6\n",
      "19         6\n",
      "22         5\n",
      "29         4\n",
      "26         4\n",
      "23         3\n",
      "32         3\n",
      "47         3\n",
      "27         3\n",
      "28         3\n",
      "37         3\n",
      "34         3\n",
      "21         2\n",
      "36         2\n",
      "31         2\n",
      "30         2\n",
      "24         2\n",
      "35         1\n",
      "81         1\n",
      "39         1\n",
      "41         1\n",
      "43         1\n",
      "48         1\n",
      "53         1\n",
      "54         1\n",
      "57         1\n",
      "93         1\n",
      "Name: PERSONCOUNT, dtype: int64\n",
      "------------------------------\n",
      "Column Name :\t PEDCOUNT\n",
      "0    213452\n",
      "1      7758\n",
      "2       275\n",
      "3        28\n",
      "4         9\n",
      "5         2\n",
      "6         1\n",
      "Name: PEDCOUNT, dtype: int64\n",
      "------------------------------\n",
      "Column Name :\t PEDCYLCOUNT\n",
      "0    215515\n",
      "1      5959\n",
      "2        51\n",
      "Name: PEDCYLCOUNT, dtype: int64\n",
      "------------------------------\n",
      "Column Name :\t VEHCOUNT\n",
      "2     150371\n",
      "1      27906\n",
      "0      26537\n",
      "3      13383\n",
      "4       2525\n",
      "5        557\n",
      "6        153\n",
      "7         53\n",
      "8         18\n",
      "9         10\n",
      "11         6\n",
      "10         2\n",
      "15         1\n",
      "14         1\n",
      "13         1\n",
      "12         1\n",
      "Name: VEHCOUNT, dtype: int64\n",
      "------------------------------\n",
      "Column Name :\t INJURIES\n",
      "0     159521\n",
      "1      47312\n",
      "2      10694\n",
      "3       2730\n",
      "4        816\n",
      "5        274\n",
      "6        100\n",
      "7         40\n",
      "8         12\n",
      "9         10\n",
      "10         6\n",
      "11         5\n",
      "13         2\n",
      "78         1\n",
      "15         1\n",
      "12         1\n",
      "Name: INJURIES, dtype: int64\n",
      "------------------------------\n",
      "Column Name :\t FATALITIES\n",
      "0    221175\n",
      "1       332\n",
      "2        14\n",
      "3         2\n",
      "5         1\n",
      "4         1\n",
      "Name: FATALITIES, dtype: int64\n",
      "------------------------------\n",
      "Column Name :\t INCDTTM\n",
      "2006-11-02 00:00:00    103\n",
      "2004-10-08 00:00:00     98\n",
      "2008-10-03 00:00:00     92\n",
      "2005-11-05 00:00:00     85\n",
      "2004-01-02 00:00:00     80\n",
      "                      ... \n",
      "2006-01-13 14:20:00      1\n",
      "2005-10-23 12:59:00      1\n",
      "2016-03-06 15:05:00      1\n",
      "2004-06-13 17:23:00      1\n",
      "2019-07-12 09:45:00      1\n",
      "Name: INCDTTM, Length: 169583, dtype: int64\n",
      "------------------------------\n",
      "Column Name :\t JUNCTIONTYPE\n",
      "Mid-Block (not related to intersection)              101709\n",
      "At Intersection (intersection related)                69228\n",
      "Mid-Block (but intersection related)                  24410\n",
      "Driveway Junction                                     11496\n",
      "At Intersection (but not related to intersection)      2497\n",
      "Ramp Junction                                           190\n",
      "Unknown                                                  21\n",
      "Name: JUNCTIONTYPE, dtype: int64\n",
      "------------------------------\n",
      "Column Name :\t INATTENTIONIND\n",
      "Y    30188\n",
      "Name: INATTENTIONIND, dtype: int64\n",
      "------------------------------\n",
      "Column Name :\t UNDERINFL\n",
      "N    103927\n",
      "0     81676\n",
      "Y      5399\n",
      "1      4230\n",
      "Name: UNDERINFL, dtype: int64\n",
      "------------------------------\n",
      "Column Name :\t WEATHER\n",
      "Clear                       114738\n",
      "Raining                      34036\n",
      "Overcast                     28552\n",
      "Unknown                      15131\n",
      "Snowing                        919\n",
      "Other                          860\n",
      "Fog/Smog/Smoke                 577\n",
      "Sleet/Hail/Freezing Rain       116\n",
      "Blowing Sand/Dirt               56\n",
      "Severe Crosswind                26\n",
      "Partly Cloudy                   10\n",
      "Blowing Snow                     1\n",
      "Name: WEATHER, dtype: int64\n",
      "------------------------------\n",
      "Column Name :\t ROADCOND\n",
      "Dry               128588\n",
      "Wet                48734\n",
      "Unknown            15139\n",
      "Ice                 1232\n",
      "Snow/Slush          1014\n",
      "Other                136\n",
      "Standing Water       119\n",
      "Sand/Mud/Dirt         77\n",
      "Oil                   64\n",
      "Name: ROADCOND, dtype: int64\n",
      "------------------------------\n",
      "Column Name :\t LIGHTCOND\n",
      "Daylight                    119492\n",
      "Dark - Street Lights On      50133\n",
      "Unknown                      13532\n",
      "Dusk                          6082\n",
      "Dawn                          2609\n",
      "Dark - No Street Lights       1579\n",
      "Dark - Street Lights Off      1239\n",
      "Other                          244\n",
      "Dark - Unknown Lighting         23\n",
      "Name: LIGHTCOND, dtype: int64\n",
      "------------------------------\n",
      "Column Name :\t SPEEDING\n",
      "Y    9929\n",
      "Name: SPEEDING, dtype: int64\n",
      "------------------------------\n",
      "Column Name :\t HITPARKEDCAR\n",
      "N    209492\n",
      "Y     12033\n",
      "Name: HITPARKEDCAR, dtype: int64\n",
      "------------------------------\n"
     ]
    }
   ],
   "source": [
    "# Understanding the unique values of each variable / attribute\n",
    "for column in data.columns:\n",
    "    print('Column Name :\\t',column)\n",
    "    print(data[column].value_counts())\n",
    "    print('-'*30)"
   ]
  },
  {
   "cell_type": "code",
   "execution_count": 71,
   "metadata": {},
   "outputs": [
    {
     "name": "stdout",
     "output_type": "stream",
     "text": [
      "Shape before dropping rows :  (221525, 17)\n",
      "Shape after dropping rows :  (202498, 17)\n"
     ]
    },
    {
     "name": "stderr",
     "output_type": "stream",
     "text": [
      "C:\\Users\\Jack\\anaconda3\\lib\\site-packages\\pandas\\core\\frame.py:3997: SettingWithCopyWarning: \n",
      "A value is trying to be set on a copy of a slice from a DataFrame\n",
      "\n",
      "See the caveats in the documentation: https://pandas.pydata.org/pandas-docs/stable/user_guide/indexing.html#returning-a-view-versus-a-copy\n",
      "  errors=errors,\n"
     ]
    }
   ],
   "source": [
    "# Data Cleaning - Removing Records that have an \"Unknown\" in any of the data attributes.\n",
    "print(\"Shape before dropping rows : \",data.shape)\n",
    "drop_index = ((data.INCDTTM=='Unknown') | (data.WEATHER=='Unknown') | (data.ROADCOND=='Unknown')|(data.LIGHTCOND =='Unknown')|(data.JUNCTIONTYPE =='Unknown'))\n",
    "data.drop(data[drop_index].index, inplace=True)\n",
    "print(\"Shape after dropping rows : \",data.shape)"
   ]
  },
  {
   "cell_type": "code",
   "execution_count": 72,
   "metadata": {},
   "outputs": [
    {
     "name": "stderr",
     "output_type": "stream",
     "text": [
      "C:\\Users\\Jack\\anaconda3\\lib\\site-packages\\pandas\\core\\generic.py:6746: SettingWithCopyWarning: \n",
      "A value is trying to be set on a copy of a slice from a DataFrame\n",
      "\n",
      "See the caveats in the documentation: https://pandas.pydata.org/pandas-docs/stable/user_guide/indexing.html#returning-a-view-versus-a-copy\n",
      "  self._update_inplace(new_data)\n",
      "C:\\Users\\Jack\\anaconda3\\lib\\site-packages\\ipykernel_launcher.py:4: SettingWithCopyWarning: \n",
      "A value is trying to be set on a copy of a slice from a DataFrame.\n",
      "Try using .loc[row_indexer,col_indexer] = value instead\n",
      "\n",
      "See the caveats in the documentation: https://pandas.pydata.org/pandas-docs/stable/user_guide/indexing.html#returning-a-view-versus-a-copy\n",
      "  after removing the cwd from sys.path.\n"
     ]
    }
   ],
   "source": [
    "# Data Cleaning - Sorting out the inconsitency in the data values.\n",
    "data['UNDERINFL'].replace('Y',1,inplace=True)\n",
    "data['UNDERINFL'].replace('N',0,inplace=True)\n",
    "data['UNDERINFL'] = pd.to_numeric(data['UNDERINFL'])\n",
    "\n",
    "data['LIGHTCOND'].replace('Dark - Street Lights Off', 'Dark - No Street Lights', inplace=True)\n",
    "data['LIGHTCOND'].replace('Dark - Unknown Lighting', 'Dark - No Street Lights', inplace=True)\n",
    "\n",
    "data['INATTENTIONIND'].replace('Y',1,inplace=True)"
   ]
  },
  {
   "cell_type": "code",
   "execution_count": 73,
   "metadata": {},
   "outputs": [
    {
     "name": "stderr",
     "output_type": "stream",
     "text": [
      "C:\\Users\\Jack\\anaconda3\\lib\\site-packages\\pandas\\core\\generic.py:6245: SettingWithCopyWarning: \n",
      "A value is trying to be set on a copy of a slice from a DataFrame\n",
      "\n",
      "See the caveats in the documentation: https://pandas.pydata.org/pandas-docs/stable/user_guide/indexing.html#returning-a-view-versus-a-copy\n",
      "  self._update_inplace(new_data)\n",
      "C:\\Users\\Jack\\anaconda3\\lib\\site-packages\\ipykernel_launcher.py:12: SettingWithCopyWarning: \n",
      "A value is trying to be set on a copy of a slice from a DataFrame\n",
      "\n",
      "See the caveats in the documentation: https://pandas.pydata.org/pandas-docs/stable/user_guide/indexing.html#returning-a-view-versus-a-copy\n",
      "  if sys.path[0] == '':\n"
     ]
    },
    {
     "data": {
      "text/plain": [
       "(173118, 17)"
      ]
     },
     "execution_count": 73,
     "metadata": {},
     "output_type": "execute_result"
    }
   ],
   "source": [
    "# Data Cleaning - Filling Missing Data of certain attributes \n",
    "data['UNDERINFL'].fillna(0, inplace=True)\n",
    "data['INATTENTIONIND'].fillna(0,inplace = True)\n",
    "data['SPEEDING'].fillna(0,inplace = True)\n",
    "\n",
    "# Data Transformation - Replace Y values in with 1 to be consistent with the missing data that was cosidered as non-speeding and filled with value of 0\n",
    "data['SPEEDING'].replace(\"Y\",1,inplace=True)\n",
    "\n",
    "# Data Cleaning - Droping the rest of the records with missing data.\n",
    "# Wiping the data\n",
    "# data.shape\n",
    "data.dropna(inplace=True)\n",
    "data.shape"
   ]
  },
  {
   "cell_type": "code",
   "execution_count": 74,
   "metadata": {},
   "outputs": [
    {
     "data": {
      "text/plain": [
       "SEVERITYCODE      0\n",
       "ADDRTYPE          0\n",
       "PERSONCOUNT       0\n",
       "PEDCOUNT          0\n",
       "PEDCYLCOUNT       0\n",
       "VEHCOUNT          0\n",
       "INJURIES          0\n",
       "FATALITIES        0\n",
       "INCDTTM           0\n",
       "JUNCTIONTYPE      0\n",
       "INATTENTIONIND    0\n",
       "UNDERINFL         0\n",
       "WEATHER           0\n",
       "ROADCOND          0\n",
       "LIGHTCOND         0\n",
       "SPEEDING          0\n",
       "HITPARKEDCAR      0\n",
       "dtype: int64"
      ]
     },
     "execution_count": 74,
     "metadata": {},
     "output_type": "execute_result"
    }
   ],
   "source": [
    "# Data Cleaning - Checking for any non-value data\n",
    "data.isna().sum()"
   ]
  },
  {
   "cell_type": "code",
   "execution_count": 75,
   "metadata": {},
   "outputs": [
    {
     "name": "stdout",
     "output_type": "stream",
     "text": [
      "Missing values in SEVERITYCODE: 0\n",
      "Missing values in ADDRTYPE: 0\n",
      "Missing values in PERSONCOUNT: 0\n",
      "Missing values in PEDCOUNT: 0\n",
      "Missing values in PEDCYLCOUNT: 0\n",
      "Missing values in VEHCOUNT: 0\n",
      "Missing values in INJURIES: 0\n",
      "Missing values in FATALITIES: 0\n",
      "Missing values in INCDTTM: 0\n",
      "Missing values in JUNCTIONTYPE: 0\n",
      "Missing values in INATTENTIONIND: 0\n",
      "Missing values in UNDERINFL: 0\n",
      "Missing values in WEATHER: 0\n",
      "Missing values in ROADCOND: 0\n",
      "Missing values in LIGHTCOND: 0\n",
      "Missing values in SPEEDING: 0\n",
      "Missing values in HITPARKEDCAR: 0\n"
     ]
    }
   ],
   "source": [
    "# Data Cleaning - Checking for any further missing values\n",
    "columns = data.columns.to_list()\n",
    "for column in columns:\n",
    "    null_values = data[column].isnull().sum()\n",
    "    print(\"Missing values in \"+column+\": \"+str(null_values))"
   ]
  },
  {
   "cell_type": "code",
   "execution_count": 76,
   "metadata": {},
   "outputs": [
    {
     "data": {
      "text/plain": [
       "1     113626\n",
       "2      56178\n",
       "2b      2977\n",
       "3        335\n",
       "0          2\n",
       "Name: SEVERITYCODE, dtype: int64"
      ]
     },
     "execution_count": 76,
     "metadata": {},
     "output_type": "execute_result"
    }
   ],
   "source": [
    "# Data Transformation of SEVERITYCODE\n",
    "# Checking count and value type of the attribute\n",
    "data['SEVERITYCODE'].value_counts()"
   ]
  },
  {
   "cell_type": "code",
   "execution_count": 77,
   "metadata": {},
   "outputs": [
    {
     "data": {
      "text/plain": [
       "0    168392\n",
       "1      4724\n",
       "Name: HITPARKEDCAR, dtype: int64"
      ]
     },
     "execution_count": 77,
     "metadata": {},
     "output_type": "execute_result"
    }
   ],
   "source": [
    "# Data Transformation of SEVERITYCODE - Binary Encoding\n",
    "# There are 2 records with Unknow serverity, Drop them\n",
    "data = data[data.SEVERITYCODE != '0']\n",
    "\n",
    "# Combine injuries, serious injuries and fatality to injury as serious and fatality numbers are negligible.\n",
    "# We end up with two categories Accident with Property Damage only with value 1 and Accident with Injuries with value 2\n",
    "data['SEVERITYCODE'].replace('3',2,inplace=True)\n",
    "data['SEVERITYCODE'].replace('2b',2,inplace=True)\n",
    "#Converting the data to Numeric\n",
    "data['SEVERITYCODE'] = pd.to_numeric(data['SEVERITYCODE'])\n",
    "data['SEVERITYCODE'].value_counts()\n",
    "\n",
    "data['HITPARKEDCAR'].replace('N',0,inplace=True)\n",
    "data['HITPARKEDCAR'].replace('Y',1,inplace=True)\n",
    "#Converting the data to Numeric\n",
    "data['HITPARKEDCAR'] = pd.to_numeric(data['HITPARKEDCAR'])\n",
    "data['HITPARKEDCAR'].value_counts()"
   ]
  },
  {
   "cell_type": "code",
   "execution_count": 78,
   "metadata": {},
   "outputs": [
    {
     "data": {
      "text/plain": [
       "2    59490\n",
       "1    58188\n",
       "Name: SEVERITYCODE, dtype: int64"
      ]
     },
     "execution_count": 78,
     "metadata": {},
     "output_type": "execute_result"
    }
   ],
   "source": [
    "# Data Balancing - As seen the SEVERITYCODE data is not balanced. The number of accidents with SEVERITYCODE=1 are downsampled.\n",
    "#Balancing the data variable.\n",
    "from sklearn.utils import resample\n",
    "data_majority = data[data.SEVERITYCODE==1]\n",
    "data_minority = data[data.SEVERITYCODE==2]\n",
    "\n",
    "#Downsample majority class\n",
    "data_majority_downsampled = resample(data_majority,\n",
    "                                        replace=False,\n",
    "                                        n_samples=58188,\n",
    "                                        random_state=123)\n",
    "# Combine minority class with downsampled majority class\n",
    "data_balanced = pd.concat([data_majority_downsampled, data_minority])\n",
    "\n",
    "# Display new class counts\n",
    "data_balanced.SEVERITYCODE.value_counts()"
   ]
  },
  {
   "cell_type": "code",
   "execution_count": 79,
   "metadata": {},
   "outputs": [
    {
     "data": {
      "text/html": [
       "<div>\n",
       "<style scoped>\n",
       "    .dataframe tbody tr th:only-of-type {\n",
       "        vertical-align: middle;\n",
       "    }\n",
       "\n",
       "    .dataframe tbody tr th {\n",
       "        vertical-align: top;\n",
       "    }\n",
       "\n",
       "    .dataframe thead th {\n",
       "        text-align: right;\n",
       "    }\n",
       "</style>\n",
       "<table border=\"1\" class=\"dataframe\">\n",
       "  <thead>\n",
       "    <tr style=\"text-align: right;\">\n",
       "      <th></th>\n",
       "      <th>INATTENTIONIND</th>\n",
       "      <th>UNDERINFL</th>\n",
       "      <th>SPEEDING</th>\n",
       "      <th>HITPARKEDCAR</th>\n",
       "      <th>Alley</th>\n",
       "      <th>Block</th>\n",
       "      <th>Intersection</th>\n",
       "      <th>Blowing Sand/Dirt</th>\n",
       "      <th>Clear</th>\n",
       "      <th>Fog/Smog/Smoke</th>\n",
       "      <th>...</th>\n",
       "      <th>Dawn</th>\n",
       "      <th>Daylight</th>\n",
       "      <th>Dusk</th>\n",
       "      <th>Other</th>\n",
       "      <th>At Intersection (but not related to intersection)</th>\n",
       "      <th>At Intersection (intersection related)</th>\n",
       "      <th>Driveway Junction</th>\n",
       "      <th>Mid-Block (but intersection related)</th>\n",
       "      <th>Mid-Block (not related to intersection)</th>\n",
       "      <th>Ramp Junction</th>\n",
       "    </tr>\n",
       "  </thead>\n",
       "  <tbody>\n",
       "    <tr>\n",
       "      <th>179493</th>\n",
       "      <td>0.0</td>\n",
       "      <td>0.0</td>\n",
       "      <td>0</td>\n",
       "      <td>0</td>\n",
       "      <td>0</td>\n",
       "      <td>0</td>\n",
       "      <td>1</td>\n",
       "      <td>0</td>\n",
       "      <td>1</td>\n",
       "      <td>0</td>\n",
       "      <td>...</td>\n",
       "      <td>0</td>\n",
       "      <td>0</td>\n",
       "      <td>0</td>\n",
       "      <td>0</td>\n",
       "      <td>0</td>\n",
       "      <td>1</td>\n",
       "      <td>0</td>\n",
       "      <td>0</td>\n",
       "      <td>0</td>\n",
       "      <td>0</td>\n",
       "    </tr>\n",
       "    <tr>\n",
       "      <th>194462</th>\n",
       "      <td>0.0</td>\n",
       "      <td>0.0</td>\n",
       "      <td>0</td>\n",
       "      <td>0</td>\n",
       "      <td>0</td>\n",
       "      <td>0</td>\n",
       "      <td>1</td>\n",
       "      <td>0</td>\n",
       "      <td>1</td>\n",
       "      <td>0</td>\n",
       "      <td>...</td>\n",
       "      <td>0</td>\n",
       "      <td>1</td>\n",
       "      <td>0</td>\n",
       "      <td>0</td>\n",
       "      <td>0</td>\n",
       "      <td>1</td>\n",
       "      <td>0</td>\n",
       "      <td>0</td>\n",
       "      <td>0</td>\n",
       "      <td>0</td>\n",
       "    </tr>\n",
       "    <tr>\n",
       "      <th>40976</th>\n",
       "      <td>0.0</td>\n",
       "      <td>0.0</td>\n",
       "      <td>0</td>\n",
       "      <td>0</td>\n",
       "      <td>0</td>\n",
       "      <td>1</td>\n",
       "      <td>0</td>\n",
       "      <td>0</td>\n",
       "      <td>1</td>\n",
       "      <td>0</td>\n",
       "      <td>...</td>\n",
       "      <td>0</td>\n",
       "      <td>1</td>\n",
       "      <td>0</td>\n",
       "      <td>0</td>\n",
       "      <td>0</td>\n",
       "      <td>0</td>\n",
       "      <td>0</td>\n",
       "      <td>0</td>\n",
       "      <td>1</td>\n",
       "      <td>0</td>\n",
       "    </tr>\n",
       "    <tr>\n",
       "      <th>89400</th>\n",
       "      <td>0.0</td>\n",
       "      <td>0.0</td>\n",
       "      <td>0</td>\n",
       "      <td>0</td>\n",
       "      <td>0</td>\n",
       "      <td>1</td>\n",
       "      <td>0</td>\n",
       "      <td>0</td>\n",
       "      <td>1</td>\n",
       "      <td>0</td>\n",
       "      <td>...</td>\n",
       "      <td>0</td>\n",
       "      <td>1</td>\n",
       "      <td>0</td>\n",
       "      <td>0</td>\n",
       "      <td>0</td>\n",
       "      <td>0</td>\n",
       "      <td>0</td>\n",
       "      <td>0</td>\n",
       "      <td>1</td>\n",
       "      <td>0</td>\n",
       "    </tr>\n",
       "    <tr>\n",
       "      <th>89737</th>\n",
       "      <td>1.0</td>\n",
       "      <td>0.0</td>\n",
       "      <td>1</td>\n",
       "      <td>0</td>\n",
       "      <td>0</td>\n",
       "      <td>1</td>\n",
       "      <td>0</td>\n",
       "      <td>0</td>\n",
       "      <td>1</td>\n",
       "      <td>0</td>\n",
       "      <td>...</td>\n",
       "      <td>0</td>\n",
       "      <td>0</td>\n",
       "      <td>0</td>\n",
       "      <td>0</td>\n",
       "      <td>0</td>\n",
       "      <td>0</td>\n",
       "      <td>0</td>\n",
       "      <td>0</td>\n",
       "      <td>1</td>\n",
       "      <td>0</td>\n",
       "    </tr>\n",
       "  </tbody>\n",
       "</table>\n",
       "<p>5 rows × 37 columns</p>\n",
       "</div>"
      ],
      "text/plain": [
       "        INATTENTIONIND  UNDERINFL  SPEEDING  HITPARKEDCAR  Alley  Block  \\\n",
       "179493             0.0        0.0         0             0      0      0   \n",
       "194462             0.0        0.0         0             0      0      0   \n",
       "40976              0.0        0.0         0             0      0      1   \n",
       "89400              0.0        0.0         0             0      0      1   \n",
       "89737              1.0        0.0         1             0      0      1   \n",
       "\n",
       "        Intersection  Blowing Sand/Dirt  Clear  Fog/Smog/Smoke  ...  Dawn  \\\n",
       "179493             1                  0      1               0  ...     0   \n",
       "194462             1                  0      1               0  ...     0   \n",
       "40976              0                  0      1               0  ...     0   \n",
       "89400              0                  0      1               0  ...     0   \n",
       "89737              0                  0      1               0  ...     0   \n",
       "\n",
       "        Daylight  Dusk  Other  \\\n",
       "179493         0     0      0   \n",
       "194462         1     0      0   \n",
       "40976          1     0      0   \n",
       "89400          1     0      0   \n",
       "89737          0     0      0   \n",
       "\n",
       "        At Intersection (but not related to intersection)  \\\n",
       "179493                                                  0   \n",
       "194462                                                  0   \n",
       "40976                                                   0   \n",
       "89400                                                   0   \n",
       "89737                                                   0   \n",
       "\n",
       "        At Intersection (intersection related)  Driveway Junction  \\\n",
       "179493                                       1                  0   \n",
       "194462                                       1                  0   \n",
       "40976                                        0                  0   \n",
       "89400                                        0                  0   \n",
       "89737                                        0                  0   \n",
       "\n",
       "        Mid-Block (but intersection related)  \\\n",
       "179493                                     0   \n",
       "194462                                     0   \n",
       "40976                                      0   \n",
       "89400                                      0   \n",
       "89737                                      0   \n",
       "\n",
       "        Mid-Block (not related to intersection)  Ramp Junction  \n",
       "179493                                        0              0  \n",
       "194462                                        0              0  \n",
       "40976                                         1              0  \n",
       "89400                                         1              0  \n",
       "89737                                         1              0  \n",
       "\n",
       "[5 rows x 37 columns]"
      ]
     },
     "execution_count": 79,
     "metadata": {},
     "output_type": "execute_result"
    }
   ],
   "source": [
    "# Data Transformation - One Hot Enconding\n",
    "feature = data_balanced[['INATTENTIONIND','UNDERINFL','SPEEDING', 'HITPARKEDCAR']]\n",
    "feature = pd.concat([feature,pd.get_dummies(data_balanced['ADDRTYPE'])], axis=1)\n",
    "feature = pd.concat([feature,pd.get_dummies(data_balanced['WEATHER'])], axis=1)\n",
    "feature = pd.concat([feature,pd.get_dummies(data_balanced['ROADCOND'])], axis=1)\n",
    "feature = pd.concat([feature,pd.get_dummies(data_balanced['LIGHTCOND'])], axis=1)\n",
    "feature = pd.concat([feature,pd.get_dummies(data_balanced['JUNCTIONTYPE'])], axis=1)\n",
    "feature.head()"
   ]
  },
  {
   "cell_type": "code",
   "execution_count": 80,
   "metadata": {},
   "outputs": [],
   "source": [
    "# Feature Selection\n",
    "x = feature\n",
    "y = data_balanced['SEVERITYCODE'].values"
   ]
  },
  {
   "cell_type": "code",
   "execution_count": 81,
   "metadata": {},
   "outputs": [
    {
     "data": {
      "text/plain": [
       "array([[-0.45185726, -0.24681416, -0.24839909, -0.15213351, -0.03113976,\n",
       "        -1.23103804,  1.23353127, -0.01542706,  0.75044154, -0.05577934,\n",
       "        -0.03747132, -0.43121616, -0.00714067, -0.48999947, -0.01129082,\n",
       "        -0.02558821, -0.06564957,  0.6316223 , -0.07691058, -0.01797274,\n",
       "        -0.02525349, -0.01797274, -0.06584513, -0.02457042, -0.61293653,\n",
       "        -0.11954346,  1.63663895, -0.12161085, -1.408984  , -0.18607209,\n",
       "        -0.031816  , -0.1040757 ,  1.26202683, -0.24816764, -0.3754532 ,\n",
       "        -0.85288267, -0.03044857],\n",
       "       [-0.45185726, -0.24681416, -0.24839909, -0.15213351, -0.03113976,\n",
       "        -1.23103804,  1.23353127, -0.01542706,  0.75044154, -0.05577934,\n",
       "        -0.03747132, -0.43121616, -0.00714067, -0.48999947, -0.01129082,\n",
       "        -0.02558821, -0.06564957,  0.6316223 , -0.07691058, -0.01797274,\n",
       "        -0.02525349, -0.01797274, -0.06584513, -0.02457042, -0.61293653,\n",
       "        -0.11954346, -0.61100831, -0.12161085,  0.70973127, -0.18607209,\n",
       "        -0.031816  , -0.1040757 ,  1.26202683, -0.24816764, -0.3754532 ,\n",
       "        -0.85288267, -0.03044857],\n",
       "       [-0.45185726, -0.24681416, -0.24839909, -0.15213351, -0.03113976,\n",
       "         0.81232258, -0.81068071, -0.01542706,  0.75044154, -0.05577934,\n",
       "        -0.03747132, -0.43121616, -0.00714067, -0.48999947, -0.01129082,\n",
       "        -0.02558821, -0.06564957,  0.6316223 , -0.07691058, -0.01797274,\n",
       "        -0.02525349, -0.01797274, -0.06584513, -0.02457042, -0.61293653,\n",
       "        -0.11954346, -0.61100831, -0.12161085,  0.70973127, -0.18607209,\n",
       "        -0.031816  , -0.1040757 , -0.79237618, -0.24816764, -0.3754532 ,\n",
       "         1.17249422, -0.03044857],\n",
       "       [-0.45185726, -0.24681416, -0.24839909, -0.15213351, -0.03113976,\n",
       "         0.81232258, -0.81068071, -0.01542706,  0.75044154, -0.05577934,\n",
       "        -0.03747132, -0.43121616, -0.00714067, -0.48999947, -0.01129082,\n",
       "        -0.02558821, -0.06564957,  0.6316223 , -0.07691058, -0.01797274,\n",
       "        -0.02525349, -0.01797274, -0.06584513, -0.02457042, -0.61293653,\n",
       "        -0.11954346, -0.61100831, -0.12161085,  0.70973127, -0.18607209,\n",
       "        -0.031816  , -0.1040757 , -0.79237618, -0.24816764, -0.3754532 ,\n",
       "         1.17249422, -0.03044857],\n",
       "       [ 2.21308828, -0.24681416,  4.02577963, -0.15213351, -0.03113976,\n",
       "         0.81232258, -0.81068071, -0.01542706,  0.75044154, -0.05577934,\n",
       "        -0.03747132, -0.43121616, -0.00714067, -0.48999947, -0.01129082,\n",
       "        -0.02558821, -0.06564957,  0.6316223 , -0.07691058, -0.01797274,\n",
       "        -0.02525349, -0.01797274, -0.06584513, -0.02457042, -0.61293653,\n",
       "        -0.11954346,  1.63663895, -0.12161085, -1.408984  , -0.18607209,\n",
       "        -0.031816  , -0.1040757 , -0.79237618, -0.24816764, -0.3754532 ,\n",
       "         1.17249422, -0.03044857]])"
      ]
     },
     "execution_count": 81,
     "metadata": {},
     "output_type": "execute_result"
    }
   ],
   "source": [
    "# Data Normalization\n",
    "x= preprocessing.StandardScaler().fit(x).transform(x)\n",
    "x[0:5]"
   ]
  },
  {
   "cell_type": "markdown",
   "metadata": {},
   "source": [
    "### 1.4 Data Modeling"
   ]
  },
  {
   "cell_type": "code",
   "execution_count": 82,
   "metadata": {},
   "outputs": [
    {
     "name": "stdout",
     "output_type": "stream",
     "text": [
      "Test set: (23536, 37) (23536,)\n"
     ]
    }
   ],
   "source": [
    "# Train/Test Dataset\n",
    "from sklearn.model_selection import train_test_split\n",
    "x_train, x_test, y_train, y_test = train_test_split(x, y, test_size=0.2, random_state=4)\n",
    "print('Test set:', x_test.shape,  y_test.shape)"
   ]
  },
  {
   "cell_type": "markdown",
   "metadata": {},
   "source": [
    "#### 1.4.1 K Nearest Neighbor(KNN)"
   ]
  },
  {
   "cell_type": "code",
   "execution_count": 83,
   "metadata": {},
   "outputs": [
    {
     "data": {
      "image/png": "[encoded data removed]",
      "text/plain": [
       "<Figure size 432x288 with 1 Axes>"
      ]
     },
     "metadata": {
      "needs_background": "light"
     },
     "output_type": "display_data"
    },
    {
     "name": "stdout",
     "output_type": "stream",
     "text": [
      "The best accuracy was with 0.571974847042828 with k= 7\n"
     ]
    }
   ],
   "source": [
    "# Finding the best k value\n",
    "from sklearn.neighbors import KNeighborsClassifier\n",
    "Ks = 10\n",
    "mean_acc = np.zeros((Ks-1))\n",
    "std_acc = np.zeros((Ks-1))\n",
    "ConfusionMx = [];\n",
    "for n in range(1,Ks):\n",
    "    neigh = KNeighborsClassifier(n_neighbors = n).fit(x_train,y_train)\n",
    "    yhat=neigh.predict(x_test)\n",
    "    mean_acc[n-1] = metrics.accuracy_score(y_test, yhat)\n",
    "    std_acc[n-1]=np.std(yhat==y_test)/np.sqrt(yhat.shape[0])\n",
    "plt.plot(range(1,Ks),mean_acc,'g')\n",
    "plt.fill_between(range(1,Ks),mean_acc - 1 * std_acc,mean_acc + 1 * std_acc, alpha=0.10)\n",
    "plt.legend(('Accuracy ', '+/- 3xstd'))\n",
    "plt.ylabel('Accuracy ')\n",
    "plt.xlabel('Number of Nabors (K)')\n",
    "plt.tight_layout()\n",
    "plt.show()\n",
    "\n",
    "print( \"The best accuracy was with\", mean_acc.max(), \"with k=\", mean_acc.argmax()+1)"
   ]
  },
  {
   "cell_type": "code",
   "execution_count": 84,
   "metadata": {},
   "outputs": [],
   "source": [
    "# Model Training and Fitting\n",
    "from sklearn.neighbors import KNeighborsClassifier\n",
    "k = mean_acc.argmax()+1\n",
    "neigh = KNeighborsClassifier(n_neighbors = k).fit(x_train,y_train)"
   ]
  },
  {
   "cell_type": "code",
   "execution_count": 85,
   "metadata": {},
   "outputs": [
    {
     "name": "stdout",
     "output_type": "stream",
     "text": [
      "Train set Accuracy:  0.581897559006607\n",
      "Test set Accuracy:  0.571974847042828\n"
     ]
    }
   ],
   "source": [
    "# Model Prediction\n",
    "yhat = neigh.predict(x_test)\n",
    "print(\"Train set Accuracy: \", metrics.accuracy_score(y_train, neigh.predict(x_train)))\n",
    "print(\"Test set Accuracy: \", metrics.accuracy_score(y_test, yhat))"
   ]
  },
  {
   "cell_type": "markdown",
   "metadata": {},
   "source": [
    "#### 1.4.2 Decision Trees"
   ]
  },
  {
   "cell_type": "code",
   "execution_count": 86,
   "metadata": {},
   "outputs": [
    {
     "data": {
      "text/plain": [
       "DecisionTreeClassifier(ccp_alpha=0.0, class_weight=None, criterion='entropy',\n",
       "                       max_depth=5, max_features=None, max_leaf_nodes=None,\n",
       "                       min_impurity_decrease=0.0, min_impurity_split=None,\n",
       "                       min_samples_leaf=1, min_samples_split=2,\n",
       "                       min_weight_fraction_leaf=0.0, presort='deprecated',\n",
       "                       random_state=None, splitter='best')"
      ]
     },
     "execution_count": 86,
     "metadata": {},
     "output_type": "execute_result"
    }
   ],
   "source": [
    "# Model Training and Fitting\n",
    "from sklearn.tree import DecisionTreeClassifier\n",
    "tree = DecisionTreeClassifier(criterion=\"entropy\", max_depth = 5)\n",
    "tree.fit(x_train,y_train)"
   ]
  },
  {
   "cell_type": "code",
   "execution_count": 87,
   "metadata": {},
   "outputs": [
    {
     "name": "stdout",
     "output_type": "stream",
     "text": [
      "DecisionTrees's Accuracy:  0.5985723997280762\n"
     ]
    }
   ],
   "source": [
    "# Model Prediction\n",
    "predTree = tree.predict(x_test)\n",
    "print(\"DecisionTrees's Accuracy: \", metrics.accuracy_score(y_test, predTree))"
   ]
  },
  {
   "cell_type": "markdown",
   "metadata": {},
   "source": [
    "#### 1.4.3 Support Vector Machine"
   ]
  },
  {
   "cell_type": "code",
   "execution_count": 88,
   "metadata": {},
   "outputs": [
    {
     "data": {
      "text/plain": [
       "SVC(C=1.0, break_ties=False, cache_size=200, class_weight=None, coef0=0.0,\n",
       "    decision_function_shape='ovr', degree=3, gamma='scale', kernel='rbf',\n",
       "    max_iter=-1, probability=False, random_state=None, shrinking=True,\n",
       "    tol=0.001, verbose=False)"
      ]
     },
     "execution_count": 88,
     "metadata": {},
     "output_type": "execute_result"
    }
   ],
   "source": [
    "# Model Training and Fitting\n",
    "from sklearn import svm\n",
    "clf = svm.SVC(kernel='rbf')\n",
    "clf.fit(x_train, y_train)"
   ]
  },
  {
   "cell_type": "code",
   "execution_count": 89,
   "metadata": {},
   "outputs": [
    {
     "name": "stdout",
     "output_type": "stream",
     "text": [
      "SVM's Accuracy:  0.5998470428280082\n"
     ]
    }
   ],
   "source": [
    "# Model Fitting\n",
    "yhat = clf.predict(x_test)\n",
    "print(\"SVM's Accuracy: \", metrics.accuracy_score(y_test, yhat))"
   ]
  },
  {
   "cell_type": "markdown",
   "metadata": {},
   "source": [
    "#### 1.4.4 Logistic Regression"
   ]
  },
  {
   "cell_type": "code",
   "execution_count": 90,
   "metadata": {},
   "outputs": [
    {
     "data": {
      "text/plain": [
       "LogisticRegression(C=0.01, class_weight=None, dual=False, fit_intercept=True,\n",
       "                   intercept_scaling=1, l1_ratio=None, max_iter=100,\n",
       "                   multi_class='auto', n_jobs=None, penalty='l2',\n",
       "                   random_state=None, solver='liblinear', tol=0.0001, verbose=0,\n",
       "                   warm_start=False)"
      ]
     },
     "execution_count": 90,
     "metadata": {},
     "output_type": "execute_result"
    }
   ],
   "source": [
    "# Model Training and Fitting\n",
    "from sklearn.linear_model import LogisticRegression\n",
    "from sklearn.metrics import confusion_matrix\n",
    "LR = LogisticRegression(C=0.01, solver='liblinear').fit(x_train,y_train)\n",
    "LR"
   ]
  },
  {
   "cell_type": "code",
   "execution_count": 93,
   "metadata": {},
   "outputs": [
    {
     "data": {
      "text/plain": [
       "array([2, 1, 2, ..., 2, 2, 1], dtype=int64)"
      ]
     },
     "execution_count": 93,
     "metadata": {},
     "output_type": "execute_result"
    }
   ],
   "source": [
    "# Model Prediction\n",
    "yhat = LR.predict(x_test)\n",
    "yhat_prob = LR.predict_proba(x_test)"
   ]
  },
  {
   "cell_type": "markdown",
   "metadata": {},
   "source": [
    "### 1.5 Model Evaluation"
   ]
  },
  {
   "cell_type": "code",
   "execution_count": 97,
   "metadata": {},
   "outputs": [
    {
     "name": "stderr",
     "output_type": "stream",
     "text": [
      "C:\\Users\\Jack\\anaconda3\\lib\\site-packages\\sklearn\\metrics\\_classification.py:664: FutureWarning: jaccard_similarity_score has been deprecated and replaced with jaccard_score. It will be removed in version 0.23. This implementation has surprising behavior for binary and multiclass classification tasks.\n",
      "  FutureWarning)\n",
      "C:\\Users\\Jack\\anaconda3\\lib\\site-packages\\sklearn\\metrics\\_classification.py:664: FutureWarning: jaccard_similarity_score has been deprecated and replaced with jaccard_score. It will be removed in version 0.23. This implementation has surprising behavior for binary and multiclass classification tasks.\n",
      "  FutureWarning)\n"
     ]
    },
    {
     "name": "stdout",
     "output_type": "stream",
     "text": [
      "jaccard similarity score for KNN algorithm:  0.58\n",
      "F1-score:  0.58\n",
      "Jaccard similarity score with Decision tree:  0.60\n",
      "F1-score:  0.60\n",
      "Jaccard similarity score with SVM:  0.61\n",
      "F1-score:  0.61\n",
      "Jaccard similarity score with Logistic Regression:  0.60\n",
      "F1-score:  0.60\n",
      "LogLoss:  0.67\n"
     ]
    },
    {
     "name": "stderr",
     "output_type": "stream",
     "text": [
      "C:\\Users\\Jack\\anaconda3\\lib\\site-packages\\sklearn\\metrics\\_classification.py:664: FutureWarning: jaccard_similarity_score has been deprecated and replaced with jaccard_score. It will be removed in version 0.23. This implementation has surprising behavior for binary and multiclass classification tasks.\n",
      "  FutureWarning)\n",
      "C:\\Users\\Jack\\anaconda3\\lib\\site-packages\\sklearn\\metrics\\_classification.py:664: FutureWarning: jaccard_similarity_score has been deprecated and replaced with jaccard_score. It will be removed in version 0.23. This implementation has surprising behavior for binary and multiclass classification tasks.\n",
      "  FutureWarning)\n"
     ]
    }
   ],
   "source": [
    "# Import the metrics functions in scikit-learn\n",
    "from sklearn.metrics import jaccard_similarity_score\n",
    "from sklearn.metrics import f1_score\n",
    "from sklearn.metrics import log_loss\n",
    "\n",
    "# Prediction by k-Nearest Neighbors\n",
    "yhat = neigh.predict(x)\n",
    "print('jaccard similarity score for KNN algorithm: ', format(jaccard_similarity_score(y, yhat), '.2f'))\n",
    "print('F1-score: ', format(f1_score(y, yhat, average='weighted'), '.2f' )) \n",
    "\n",
    "# Prediction by Decision Trees\n",
    "yhat_2 = tree.predict(x)\n",
    "print('Jaccard similarity score with Decision tree: ', format(jaccard_similarity_score(y, yhat_2), '.2f'))\n",
    "print('F1-score: ', format(f1_score(y, yhat_2, average='weighted'), '.2f'))\n",
    "\n",
    "# Prediction by Support Vector Machine\n",
    "yhat_3 = clf.predict(x)\n",
    "print('Jaccard similarity score with SVM: ', format(jaccard_similarity_score(y, yhat_3), '.2f'))\n",
    "print('F1-score: ', format(f1_score(y, yhat_3, average='weighted'), '.2f'))\n",
    "\n",
    "# Prediction by logistic Regression\n",
    "yhat_4 = LR.predict(x)\n",
    "yhat_4_proba = LR.predict_proba(x)\n",
    "print('Jaccard similarity score with Logistic Regression: ', format(jaccard_similarity_score(y, yhat_4), '.2f'))\n",
    "print('F1-score: ', format(f1_score(y, yhat_4, average='weighted'), '.2f'))\n",
    "print('LogLoss: ', format(log_loss(y, yhat_4_proba), '.2f'))"
   ]
  },
  {
   "cell_type": "code",
   "execution_count": 98,
   "metadata": {},
   "outputs": [
    {
     "name": "stderr",
     "output_type": "stream",
     "text": [
      "C:\\Users\\Jack\\anaconda3\\lib\\site-packages\\sklearn\\metrics\\_classification.py:664: FutureWarning: jaccard_similarity_score has been deprecated and replaced with jaccard_score. It will be removed in version 0.23. This implementation has surprising behavior for binary and multiclass classification tasks.\n",
      "  FutureWarning)\n"
     ]
    },
    {
     "data": {
      "text/html": [
       "<div>\n",
       "<style scoped>\n",
       "    .dataframe tbody tr th:only-of-type {\n",
       "        vertical-align: middle;\n",
       "    }\n",
       "\n",
       "    .dataframe tbody tr th {\n",
       "        vertical-align: top;\n",
       "    }\n",
       "\n",
       "    .dataframe thead th {\n",
       "        text-align: right;\n",
       "    }\n",
       "</style>\n",
       "<table border=\"1\" class=\"dataframe\">\n",
       "  <thead>\n",
       "    <tr style=\"text-align: right;\">\n",
       "      <th></th>\n",
       "      <th>Jaccard</th>\n",
       "      <th>F1-score</th>\n",
       "      <th>LogLoss</th>\n",
       "    </tr>\n",
       "    <tr>\n",
       "      <th>Algorithm</th>\n",
       "      <th></th>\n",
       "      <th></th>\n",
       "      <th></th>\n",
       "    </tr>\n",
       "  </thead>\n",
       "  <tbody>\n",
       "    <tr>\n",
       "      <th>KNN</th>\n",
       "      <td>0.58</td>\n",
       "      <td>0.58</td>\n",
       "      <td>NA</td>\n",
       "    </tr>\n",
       "    <tr>\n",
       "      <th>Decision Tree</th>\n",
       "      <td>0.60</td>\n",
       "      <td>0.60</td>\n",
       "      <td>NA</td>\n",
       "    </tr>\n",
       "    <tr>\n",
       "      <th>SVM</th>\n",
       "      <td>0.61</td>\n",
       "      <td>0.61</td>\n",
       "      <td>NA</td>\n",
       "    </tr>\n",
       "    <tr>\n",
       "      <th>Logistic Regression</th>\n",
       "      <td>0.60</td>\n",
       "      <td>0.60</td>\n",
       "      <td>0.67</td>\n",
       "    </tr>\n",
       "  </tbody>\n",
       "</table>\n",
       "</div>"
      ],
      "text/plain": [
       "                     Jaccard  F1-score LogLoss\n",
       "Algorithm                                     \n",
       "KNN                     0.58      0.58      NA\n",
       "Decision Tree           0.60      0.60      NA\n",
       "SVM                     0.61      0.61      NA\n",
       "Logistic Regression     0.60      0.60    0.67"
      ]
     },
     "execution_count": 98,
     "metadata": {},
     "output_type": "execute_result"
    }
   ],
   "source": [
    "# Displaying the accuracy metrics result TABLE\n",
    "KNN_J_I=round(jaccard_similarity_score(y, yhat),2)\n",
    "KNN_F1_S=round(f1_score(y, yhat, average='weighted'),2)\n",
    "DT_J_I=round(jaccard_similarity_score(y, yhat_2),2)\n",
    "DT_F1_S=round(f1_score(y, yhat_2, average='weighted'),2)\n",
    "SVM_J_I=round(jaccard_similarity_score(y, yhat_3),2)\n",
    "SVM_F1_S=round(f1_score(y, yhat_3, average='weighted'),2)\n",
    "LR_J_I=round(jaccard_similarity_score(y, yhat_4),2)\n",
    "LR_F1_S=round(f1_score(y, yhat_4, average='weighted'),2)\n",
    "LR_LL=round(log_loss(y, yhat_4_proba),2)\n",
    "\n",
    "\n",
    "KPI = [ (KNN_J_I , KNN_F1_S , 'NA') ,\n",
    "        (DT_J_I, DT_F1_S, 'NA') ,\n",
    "        (SVM_J_I, SVM_F1_S, 'NA') ,\n",
    "           (LR_J_I, LR_F1_S, LR_LL) ]\n",
    "\n",
    "columns = ['Jaccard', 'F1-score', 'LogLoss']\n",
    "index=['KNN', 'Decision Tree', 'SVM' , 'Logistic Regression']\n",
    "#Report = pd.DataFrame(KPI, columns = ['Algorithm' , 'Jaccard', 'F1-score'], index=['KNN', 'Decision Tree', 'SVM' , 'Logistic Regression'])\n",
    "\n",
    "#Report = pd.DataFrame(KPI, columns, index)\n",
    "#Report.index.name = 'Algorithm'\n",
    "#Report\n",
    "\n",
    "#Report = pd.DataFrame(KPI, columns = ['Jaccard', 'F1-score', 'LogLoss'], index=['Algorithm' , 'KNN', 'Decision Tree', 'SVM' , 'Logistic Regression'])\n",
    "\n",
    "Report = pd.DataFrame(KPI, columns = ['Jaccard', 'F1-score', 'LogLoss'], index=['KNN', 'Decision Tree', 'SVM' , 'Logistic Regression'])\n",
    "Report.index.name = 'Algorithm'\n",
    "Report"
   ]
  },
  {
   "cell_type": "code",
   "execution_count": null,
   "metadata": {},
   "outputs": [],
   "source": []
  }
 ],
 "metadata": {
  "kernelspec": {
   "display_name": "Python 3",
   "language": "python",
   "name": "python3"
  },
  "language_info": {
   "codemirror_mode": {
    "name": "ipython",
    "version": 3
   },
   "file_extension": ".py",
   "mimetype": "text/x-python",
   "name": "python",
   "nbconvert_exporter": "python",
   "pygments_lexer": "ipython3",
   "version": "3.7.6"
  }
 },
 "nbformat": 4,
 "nbformat_minor": 4
}
